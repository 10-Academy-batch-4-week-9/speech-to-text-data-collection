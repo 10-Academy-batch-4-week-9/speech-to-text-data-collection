{
 "cells": [
  {
   "cell_type": "markdown",
   "id": "a6ce8f14-31e2-4465-a186-ff85c268f76c",
   "metadata": {},
   "source": [
    "PySpark provides csv(\"path\") on DataFrameReader to read a CSV file into PySpark DataFrame and dataframeObj.write.csv(\"path\") to save or write to the CSV file. In this tutorial, you will learn how to read a single file, multiple files, all files from a local directory into DataFrame, applying some transformations, and finally writing DataFrame back to CSV file using PySpark example."
   ]
  },
  {
   "cell_type": "code",
   "execution_count": 19,
   "id": "862b8230-51f2-447a-8626-2ed3965ed3b7",
   "metadata": {},
   "outputs": [],
   "source": [
    "import pyspark\n",
    "from pyspark.sql import SparkSession\n",
    "from pyspark.sql.types import StructType,StructField, StringType, IntegerType \n",
    "from pyspark.sql.types import ArrayType, DoubleType, BooleanType\n",
    "from pyspark.sql.functions import col,array_contains"
   ]
  },
  {
   "cell_type": "code",
   "execution_count": null,
   "id": "17fe3609-1a29-45c6-a08d-f0d36d049185",
   "metadata": {},
   "outputs": [],
   "source": []
  },
  {
   "cell_type": "code",
   "execution_count": 32,
   "id": "3921b521-a9a5-4180-8cf5-1425a5adaed3",
   "metadata": {},
   "outputs": [
    {
     "name": "stdout",
     "output_type": "stream",
     "text": [
      "root\n",
      " |-- _c0: string (nullable = true)\n",
      "\n",
      "root\n",
      " |--                                              sentence  id: string (nullable = true)\n",
      "\n",
      "root\n",
      " |--                                              sentence  id: string (nullable = true)\n",
      "\n",
      "root\n",
      " |-- text: string (nullable = true)\n",
      " |-- text_id: integer (nullable = true)\n",
      "\n"
     ]
    },
    {
     "name": "stderr",
     "output_type": "stream",
     "text": [
      "                                                                                \r"
     ]
    }
   ],
   "source": [
    "def create_spark_session():\n",
    "    \n",
    "    \"\"\"Create spark session.Returns:\n",
    "        spark (SparkSession) - spark session connected to AWS EMR\n",
    "            cluster\n",
    "    \"\"\"\n",
    "    spark = SparkSession \\\n",
    "        .builder \\\n",
    "        .config(\"spark.jars.packages\",\n",
    "                \"org.apache.hadoop:hadoop-aws:2.7.0\") \\\n",
    "        .getOrCreate()\n",
    "    return spark\n",
    "    \n",
    "def process_text_data(spark, input_path,output_path):\n",
    "    \n",
    "    \"\"\"Process the csv file and write to S3.\n",
    "       Arguments:\n",
    "        spark (SparkSession) - spark session connected to AWS EMR\n",
    "            cluster\n",
    "        input_path (str) - AWS S3 bucket path for source data\n",
    "        output_path (str) - AWS S3 bucket for writing processed data\n",
    "    \"\"\"\n",
    "\n",
    "    df= spark.read.csv(input_path)\n",
    "    df.printSchema()\n",
    "   #If you have a header with column names on your input file, you need to explicitly specify True for header option using <a href=\"#header\">option(\"header\",True)</a> not mentioning this, \n",
    "   #the API treats header as a data record. \n",
    "    df2 = spark.read.option(\"header\",True) \\\n",
    "     .csv(input_path)\n",
    "    df2.printSchema() \n",
    "    \n",
    "    \n",
    "    df3 = spark.read.options(header='True', delimiter=',') \\\n",
    "  .csv(input_path)\n",
    "    df3.printSchema()\n",
    "    schema = StructType() \\\n",
    "          .add(\"text\",StringType(),True) \\\n",
    "          .add(\"text_id\",IntegerType(),True) \n",
    "    \n",
    "    df_with_schema = spark.read.format(\"csv\") \\\n",
    "      .option(\"header\", True) \\\n",
    "      .schema(schema) \\\n",
    "      .load(input_path)\n",
    "    df_with_schema.printSchema()\n",
    "    \n",
    "    df2.write.option(\"header\",True) \\\n",
    " .csv(output_path)\n",
    "    \n",
    "def main():\n",
    "    spark = create_spark_session()\n",
    "    input_path = './data/stt.csv'\n",
    "    output_path='../output/data'\n",
    "    process_audio_data(spark, input_path,output_path)\n",
    "    \n",
    "if __name__ == '__main__':\n",
    "    main()   \n",
    "    \n",
    "    "
   ]
  },
  {
   "cell_type": "code",
   "execution_count": null,
   "id": "636eaaae-b476-4681-90ea-b79713f37721",
   "metadata": {},
   "outputs": [],
   "source": []
  },
  {
   "cell_type": "code",
   "execution_count": null,
   "id": "96c2d849-0751-4430-af2b-ce42e9dcba4d",
   "metadata": {},
   "outputs": [],
   "source": []
  }
 ],
 "metadata": {
  "kernelspec": {
   "display_name": "Python 3 (ipykernel)",
   "language": "python",
   "name": "python3"
  },
  "language_info": {
   "codemirror_mode": {
    "name": "ipython",
    "version": 3
   },
   "file_extension": ".py",
   "mimetype": "text/x-python",
   "name": "python",
   "nbconvert_exporter": "python",
   "pygments_lexer": "ipython3",
   "version": "3.9.5"
  }
 },
 "nbformat": 4,
 "nbformat_minor": 5
}
