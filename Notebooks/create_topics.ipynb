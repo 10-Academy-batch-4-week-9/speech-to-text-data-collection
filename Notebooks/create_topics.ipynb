{
 "cells": [
  {
   "cell_type": "code",
   "execution_count": 1,
   "metadata": {},
   "outputs": [
    {
     "ename": "SyntaxError",
     "evalue": "invalid syntax (simple.py, line 54)",
     "output_type": "error",
     "traceback": [
      "Traceback \u001b[1;36m(most recent call last)\u001b[0m:\n",
      "  File \u001b[0;32m\"C:\\Users\\DESMOND\\anaconda3\\lib\\site-packages\\IPython\\core\\interactiveshell.py\"\u001b[0m, line \u001b[0;32m3437\u001b[0m, in \u001b[0;35mrun_code\u001b[0m\n    exec(code_obj, self.user_global_ns, self.user_ns)\n",
      "  File \u001b[0;32m\"<ipython-input-1-2a9fcd89d199>\"\u001b[0m, line \u001b[0;32m1\u001b[0m, in \u001b[0;35m<module>\u001b[0m\n    from kafka.admin import KafkaAdminClient, NewTopic\n",
      "  File \u001b[0;32m\"C:\\Users\\DESMOND\\anaconda3\\lib\\site-packages\\kafka\\__init__.py\"\u001b[0m, line \u001b[0;32m23\u001b[0m, in \u001b[0;35m<module>\u001b[0m\n    from kafka.producer import KafkaProducer\n",
      "\u001b[1;36m  File \u001b[1;32m\"C:\\Users\\DESMOND\\anaconda3\\lib\\site-packages\\kafka\\producer\\__init__.py\"\u001b[1;36m, line \u001b[1;32m4\u001b[1;36m, in \u001b[1;35m<module>\u001b[1;36m\u001b[0m\n\u001b[1;33m    from .simple import SimpleProducer\u001b[0m\n",
      "\u001b[1;36m  File \u001b[1;32m\"C:\\Users\\DESMOND\\anaconda3\\lib\\site-packages\\kafka\\producer\\simple.py\"\u001b[1;36m, line \u001b[1;32m54\u001b[0m\n\u001b[1;33m    return '<SimpleProducer batch=%s>' % self.async\u001b[0m\n\u001b[1;37m                                              ^\u001b[0m\n\u001b[1;31mSyntaxError\u001b[0m\u001b[1;31m:\u001b[0m invalid syntax\n"
     ]
    }
   ],
   "source": [
    "from kafka.admin import KafkaAdminClient, NewTopic"
   ]
  },
  {
   "cell_type": "code",
   "execution_count": null,
   "metadata": {},
   "outputs": [],
   "source": []
  }
 ],
 "metadata": {
  "kernelspec": {
   "display_name": "Python 3",
   "language": "python",
   "name": "python3"
  },
  "language_info": {
   "codemirror_mode": {
    "name": "ipython",
    "version": 3
   },
   "file_extension": ".py",
   "mimetype": "text/x-python",
   "name": "python",
   "nbconvert_exporter": "python",
   "pygments_lexer": "ipython3",
   "version": "3.8.8"
  }
 },
 "nbformat": 4,
 "nbformat_minor": 2
}
